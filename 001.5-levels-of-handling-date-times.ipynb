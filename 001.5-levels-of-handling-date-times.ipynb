{
 "cells": [
  {
   "cell_type": "markdown",
   "metadata": {},
   "source": [
    "# 5 Levels of Handling Date and Time in Python\n",
    "\n",
    "Article Link - https://medium.com/techtofreedom/5-levels-of-handling-date-and-time-in-python-46b601e47f65"
   ]
  },
  {
   "cell_type": "markdown",
   "metadata": {},
   "source": [
    "## Level 0: Know the Basic 3 Objects in Datetime Module"
   ]
  },
  {
   "cell_type": "code",
   "execution_count": 44,
   "metadata": {},
   "outputs": [
    {
     "name": "stdout",
     "output_type": "stream",
     "text": [
      "20\n",
      "2022-07-20 11:37:21.410401\n",
      "2022-07-20\n"
     ]
    }
   ],
   "source": [
    "# Get current date time information\n",
    "\n",
    "from datetime import datetime\n",
    "from datetime import date\n",
    "\n",
    "print(datetime.today().date().day)\n",
    "print(datetime.now())\n",
    "\n",
    "print(date.today())"
   ]
  },
  {
   "cell_type": "code",
   "execution_count": 45,
   "metadata": {},
   "outputs": [
    {
     "name": "stdout",
     "output_type": "stream",
     "text": [
      "My course started on 8th in 5 in the year of 2022.\n",
      "My course started on 8th in 6 in the year of 2022.\n"
     ]
    }
   ],
   "source": [
    "# Construct and handle an object\n",
    "\n",
    "inauguration = date(2022, 5, 8)  # yyyy, mm, dd\n",
    "\n",
    "print(\n",
    "    f\"My course started on {inauguration.day}th in {inauguration.month} in the year of {inauguration.year}.\"\n",
    ")\n",
    "\n",
    "# Replace a value if needed\n",
    "inauguration = inauguration.replace(month=6)\n",
    "\n",
    "print(\n",
    "    f\"My course started on {inauguration.day}th in {inauguration.month} in the year of {inauguration.year}.\"\n",
    ")"
   ]
  },
  {
   "cell_type": "markdown",
   "metadata": {},
   "source": [
    "## Level 1: Be Familiar with Time Calculations"
   ]
  },
  {
   "cell_type": "code",
   "execution_count": 46,
   "metadata": {},
   "outputs": [
    {
     "name": "stdout",
     "output_type": "stream",
     "text": [
      "2022-07-20 11:37:21.484418\n",
      "2022-07-28 12:38:22.485419\n"
     ]
    }
   ],
   "source": [
    "from datetime import timedelta\n",
    "\n",
    "now = datetime.now()\n",
    "print(now)\n",
    "\n",
    "future = now + timedelta(\n",
    "    weeks=1, days=1, hours=1, minutes=1, seconds=1, milliseconds=1, microseconds=1\n",
    ")  # can work with negative values as we\n",
    "print(future)"
   ]
  },
  {
   "cell_type": "markdown",
   "metadata": {},
   "source": [
    "## Level 2: Handle Time Zones Skilfully "
   ]
  },
  {
   "cell_type": "code",
   "execution_count": 47,
   "metadata": {},
   "outputs": [
    {
     "name": "stdout",
     "output_type": "stream",
     "text": [
      "['Asia/Colombo']\n",
      "['Asia/Kolkata']\n"
     ]
    }
   ],
   "source": [
    "# Get timezone names using ISO 3166 two letter country code\n",
    "\n",
    "from pytz import country_timezones\n",
    "\n",
    "print(country_timezones(\"lk\"))  # Can be called\n",
    "print(country_timezones[\"in\"])  # Can be used like a dict"
   ]
  },
  {
   "cell_type": "code",
   "execution_count": 48,
   "metadata": {},
   "outputs": [
    {
     "name": "stdout",
     "output_type": "stream",
     "text": [
      "20/07/2022, 11:37:21\n",
      "20/07/2022, 02:07:21\n"
     ]
    }
   ],
   "source": [
    "# Convert a time from one time zone to another\n",
    "\n",
    "from datetime import datetime\n",
    "import pytz\n",
    "\n",
    "local_time = datetime.now()\n",
    "print(local_time.strftime(\"%d/%m/%Y, %H:%M:%S\"))\n",
    "\n",
    "toronto_tz = pytz.timezone(\"America/Toronto\")  # Define timezone\n",
    "toronto_time = datetime.now(toronto_tz)  # Get the current time in that timezone\n",
    "print(toronto_time.strftime(\"%d/%m/%Y, %H:%M:%S\"))"
   ]
  },
  {
   "cell_type": "markdown",
   "metadata": {},
   "source": [
    "## Level 3: Clearly Understand Timestamps\n",
    "\n",
    "* A timestamp is a relative measurement that tracks how much time has passed since `UTC 1970/01/01 00:00:00`\n",
    "* That is called the epoch time or Unix Time and is stored as `0`.\n",
    "* With each second passed, 1 is added to the epoch time. For periods before the epoch time, negative values would be used.\n",
    "* So `UTC 1970/01/01 02:00:00` in timestamp would be `7200.00`.\n",
    "* Due to this relative nature, timestamps are usually used when the difference between the times of two events is more important than the times themselves.\n",
    "* You can switch between timestamps and datetimes in Python"
   ]
  },
  {
   "cell_type": "code",
   "execution_count": 49,
   "metadata": {},
   "outputs": [
    {
     "name": "stdout",
     "output_type": "stream",
     "text": [
      "1658297241.611448\n",
      "1970-01-01 01:00:00\n"
     ]
    }
   ],
   "source": [
    "from datetime import datetime\n",
    "\n",
    "# Create a timestamp from datetime\n",
    "ts1 = datetime.now().timestamp()\n",
    "print(ts1)\n",
    "\n",
    "# Convert back to datetime\n",
    "an_hour = 3600\n",
    "print(datetime.utcfromtimestamp(an_hour))  # An hour past from epoch time"
   ]
  },
  {
   "cell_type": "markdown",
   "metadata": {},
   "source": [
    "* Since timestamps are relative, timezones don't have much signifcance.\n",
    "* But when timestamps are converted to datetime objects, timezones must be considered.\n",
    "    * You can convert your timestamps into UTC or local timezone."
   ]
  },
  {
   "cell_type": "code",
   "execution_count": 50,
   "metadata": {},
   "outputs": [
    {
     "name": "stdout",
     "output_type": "stream",
     "text": [
      "1970-01-15 00:00:00\n",
      "1970-01-15 05:30:00\n"
     ]
    }
   ],
   "source": [
    "two_weeks = 3600 * 24 * 7 * 2\n",
    "\n",
    "# Convert to UTC\n",
    "print(datetime.utcfromtimestamp(two_weeks))\n",
    "\n",
    "# Convert to local timezone\n",
    "print(datetime.fromtimestamp(two_weeks))"
   ]
  }
 ],
 "metadata": {
  "kernelspec": {
   "display_name": "Python 3.10.4 64-bit",
   "language": "python",
   "name": "python3"
  },
  "language_info": {
   "codemirror_mode": {
    "name": "ipython",
    "version": 3
   },
   "file_extension": ".py",
   "mimetype": "text/x-python",
   "name": "python",
   "nbconvert_exporter": "python",
   "pygments_lexer": "ipython3",
   "version": "3.10.4"
  },
  "orig_nbformat": 4,
  "vscode": {
   "interpreter": {
    "hash": "2992cb82b7e45f9d4dffcd5f85fd17c6fedfc7d93d03bb6bc855d06ffbba5bbf"
   }
  }
 },
 "nbformat": 4,
 "nbformat_minor": 2
}
